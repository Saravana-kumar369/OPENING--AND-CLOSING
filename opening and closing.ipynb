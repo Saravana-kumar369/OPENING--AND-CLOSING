{
 "cells": [
  {
   "cell_type": "code",
   "execution_count": null,
   "id": "b64f6791",
   "metadata": {},
   "outputs": [],
   "source": [
    "# Import the necessary packages\n",
    "import cv2\n",
    "import numpy as np\n",
    "from matplotlib import pyplot as plt\n",
    "     "
   ]
  },
  {
   "cell_type": "code",
   "execution_count": null,
   "id": "114a697f",
   "metadata": {},
   "outputs": [],
   "source": [
    "# Create the text using cv2.putText\n",
     "image = np.zeros((200, 400), dtype=np.uint8)\n",
    "cv2.putText(image, 'OpenCV Morphology', (10, 100), cv2.FONT_HERSHEY_SIMPLEX, 1, 255, 2)\n",
    "cv2.putText(image, 'Demo', (10, 150), cv2.FONT_HERSHEY_SIMPLEX, 1, 255, 2)\n",
    
    "# Display the original image\n",
    "plt.imshow(image, cmap='gray')\n",
    "plt.title('Original Image')\n",
    "plt.axis('off')\n",
    "plt.show()"
   
   ]
  },
  {
   "cell_type": "code",
   "execution_count": null,
   "id": "75682b8c",
   "metadata": {},
   "outputs": [],
   "source": [
    "# Create the structuring element"
    "kernel = cv2.getStructuringElement(cv2.MORPH_CROSS, (5, 5))"
   ]
  },
  {
   "cell_type": "code",
   "execution_count": null,
   "id": "2a27ac33",
   "metadata": {},
   "outputs": [],
   "source": [
    "# Use the Opening Operation\n"
    "opened_image = cv2.morphologyEx(image, cv2.MORPH_OPEN, kernel)\n",
    "\n",
    "# Display the result of Opening\n",
    "plt.imshow(opened_image, cmap='gray')\n",
    "plt.title('After Opening Operation')\n",
    "plt.axis('off')\n",
    "plt.show()"
   ]
  },
  {
   "cell_type": "code",
   "execution_count": null,
   "id": "9b6405f3",
   "metadata": {},
   "outputs": [],
   "source": [
    "# Use the Closing Operation\n"
    "closed_image = cv2.morphologyEx(image, cv2.MORPH_CLOSE, kernel)\n",
    "\n",
    "# Display the result of Closing\n",
    "plt.imshow(closed_image, cmap='gray')\n",
    "plt.title('After Closing Operation')\n",
    "plt.axis('off')\n",
    "plt.show()"
   ]
  }
 ],
 "metadata": {
  "kernelspec": {
   "display_name": "Python 3 (ipykernel)",
   "language": "python",
   "name": "python3"
  },
  "language_info": {
   "codemirror_mode": {
    "name": "ipython",
    "version": 3
   },
   "file_extension": ".py",
   "mimetype": "text/x-python",
   "name": "python",
   "nbconvert_exporter": "python",
   "pygments_lexer": "ipython3",
   "version": "3.9.12"
  }
 },
 "nbformat": 4,
 "nbformat_minor": 5
}
